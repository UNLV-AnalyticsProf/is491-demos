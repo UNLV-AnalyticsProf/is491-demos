{
 "cells": [
  {
   "cell_type": "code",
   "execution_count": 1,
   "metadata": {},
   "outputs": [],
   "source": [
    "import numpy as np\n",
    "import pandas as pd\n",
    "import os"
   ]
  },
  {
   "cell_type": "markdown",
   "metadata": {},
   "source": [
    "### Load the file into a dataframe"
   ]
  },
  {
   "cell_type": "code",
   "execution_count": 3,
   "metadata": {},
   "outputs": [],
   "source": [
    "FILE_NAME = 'BartRider.csv'\n",
    "dat_rider = pd.read_csv(FILE_NAME)"
   ]
  },
  {
   "cell_type": "markdown",
   "metadata": {},
   "source": [
    "### Inspect the top rows"
   ]
  },
  {
   "cell_type": "code",
   "execution_count": 9,
   "metadata": {},
   "outputs": [
    {
     "data": {
      "text/html": [
       "<div>\n",
       "<style scoped>\n",
       "    .dataframe tbody tr th:only-of-type {\n",
       "        vertical-align: middle;\n",
       "    }\n",
       "\n",
       "    .dataframe tbody tr th {\n",
       "        vertical-align: top;\n",
       "    }\n",
       "\n",
       "    .dataframe thead th {\n",
       "        text-align: right;\n",
       "    }\n",
       "</style>\n",
       "<table border=\"1\" class=\"dataframe\">\n",
       "  <thead>\n",
       "    <tr style=\"text-align: right;\">\n",
       "      <th></th>\n",
       "      <th>Age</th>\n",
       "      <th>DistToWork</th>\n",
       "      <th>DualInc</th>\n",
       "      <th>Education</th>\n",
       "      <th>Gender</th>\n",
       "      <th>Income</th>\n",
       "      <th>Language</th>\n",
       "      <th>NbrInHouseHold</th>\n",
       "      <th>NbrInHouseholdUnder18</th>\n",
       "      <th>OwnRent</th>\n",
       "      <th>Rider</th>\n",
       "      <th>YrsInArea</th>\n",
       "    </tr>\n",
       "  </thead>\n",
       "  <tbody>\n",
       "    <tr>\n",
       "      <th>5488</th>\n",
       "      <td>3</td>\n",
       "      <td>11</td>\n",
       "      <td>Y</td>\n",
       "      <td>4</td>\n",
       "      <td>M</td>\n",
       "      <td>5</td>\n",
       "      <td>English</td>\n",
       "      <td>2</td>\n",
       "      <td>0</td>\n",
       "      <td>Own</td>\n",
       "      <td>Yes</td>\n",
       "      <td>5</td>\n",
       "    </tr>\n",
       "    <tr>\n",
       "      <th>5489</th>\n",
       "      <td>4</td>\n",
       "      <td>9</td>\n",
       "      <td>Y</td>\n",
       "      <td>3</td>\n",
       "      <td>F</td>\n",
       "      <td>6</td>\n",
       "      <td>English</td>\n",
       "      <td>3</td>\n",
       "      <td>1</td>\n",
       "      <td>Rent</td>\n",
       "      <td>Yes</td>\n",
       "      <td>2</td>\n",
       "    </tr>\n",
       "    <tr>\n",
       "      <th>5490</th>\n",
       "      <td>2</td>\n",
       "      <td>7</td>\n",
       "      <td>N</td>\n",
       "      <td>4</td>\n",
       "      <td>M</td>\n",
       "      <td>2</td>\n",
       "      <td>English</td>\n",
       "      <td>1</td>\n",
       "      <td>1</td>\n",
       "      <td>Rent</td>\n",
       "      <td>Yes</td>\n",
       "      <td>1</td>\n",
       "    </tr>\n",
       "    <tr>\n",
       "      <th>5491</th>\n",
       "      <td>3</td>\n",
       "      <td>7</td>\n",
       "      <td>Y</td>\n",
       "      <td>3</td>\n",
       "      <td>F</td>\n",
       "      <td>9</td>\n",
       "      <td>English</td>\n",
       "      <td>2</td>\n",
       "      <td>0</td>\n",
       "      <td>Own</td>\n",
       "      <td>No</td>\n",
       "      <td>5</td>\n",
       "    </tr>\n",
       "    <tr>\n",
       "      <th>5492</th>\n",
       "      <td>2</td>\n",
       "      <td>10</td>\n",
       "      <td>N</td>\n",
       "      <td>4</td>\n",
       "      <td>F</td>\n",
       "      <td>1</td>\n",
       "      <td>English</td>\n",
       "      <td>4</td>\n",
       "      <td>2</td>\n",
       "      <td>Parent</td>\n",
       "      <td>Yes</td>\n",
       "      <td>2</td>\n",
       "    </tr>\n",
       "  </tbody>\n",
       "</table>\n",
       "</div>"
      ],
      "text/plain": [
       "      Age  DistToWork DualInc  Education Gender  Income Language  \\\n",
       "5488    3          11       Y          4      M       5  English   \n",
       "5489    4           9       Y          3      F       6  English   \n",
       "5490    2           7       N          4      M       2  English   \n",
       "5491    3           7       Y          3      F       9  English   \n",
       "5492    2          10       N          4      F       1  English   \n",
       "\n",
       "      NbrInHouseHold  NbrInHouseholdUnder18 OwnRent Rider  YrsInArea  \n",
       "5488               2                      0     Own   Yes          5  \n",
       "5489               3                      1    Rent   Yes          2  \n",
       "5490               1                      1    Rent   Yes          1  \n",
       "5491               2                      0     Own    No          5  \n",
       "5492               4                      2  Parent   Yes          2  "
      ]
     },
     "execution_count": 9,
     "metadata": {},
     "output_type": "execute_result"
    }
   ],
   "source": [
    "dat_rider.tail(5)"
   ]
  },
  {
   "cell_type": "markdown",
   "metadata": {},
   "source": [
    "### Dummy code the categoric variables"
   ]
  },
  {
   "cell_type": "code",
   "execution_count": 11,
   "metadata": {},
   "outputs": [],
   "source": [
    "dat_rider = pd.concat([dat_rider, pd.get_dummies(dat_rider['Gender'], prefix='Gender', drop_first=True)], axis=1)\n",
    "dat_rider.drop(['Gender'], inplace=True, axis=1)\n",
    "\n",
    "dat_rider = pd.concat([dat_rider, pd.get_dummies(dat_rider['OwnRent'], prefix='OwnRent', drop_first=True)], axis=1)\n",
    "dat_rider.drop(['OwnRent'], inplace=True, axis=1)\n",
    "\n",
    "dat_rider = pd.concat([dat_rider, pd.get_dummies(dat_rider['Language'], prefix='Language', drop_first=True)], axis=1)\n",
    "dat_rider.drop(['Language'], inplace=True, axis=1)\n",
    "\n",
    "dat_rider = pd.concat([dat_rider, pd.get_dummies(dat_rider['DualInc'], prefix='DualInc', drop_first=True)], axis=1)\n",
    "dat_rider.drop(['DualInc'], inplace=True, axis=1)\n",
    "\n",
    "dat_rider = pd.concat([dat_rider, pd.get_dummies(dat_rider['Rider'], prefix='Rider', drop_first=True)], axis=1)\n",
    "dat_rider.drop(['Rider'], inplace=True, axis=1)"
   ]
  },
  {
   "cell_type": "code",
   "execution_count": 13,
   "metadata": {},
   "outputs": [
    {
     "data": {
      "text/html": [
       "<div>\n",
       "<style scoped>\n",
       "    .dataframe tbody tr th:only-of-type {\n",
       "        vertical-align: middle;\n",
       "    }\n",
       "\n",
       "    .dataframe tbody tr th {\n",
       "        vertical-align: top;\n",
       "    }\n",
       "\n",
       "    .dataframe thead th {\n",
       "        text-align: right;\n",
       "    }\n",
       "</style>\n",
       "<table border=\"1\" class=\"dataframe\">\n",
       "  <thead>\n",
       "    <tr style=\"text-align: right;\">\n",
       "      <th></th>\n",
       "      <th>Age</th>\n",
       "      <th>DistToWork</th>\n",
       "      <th>Education</th>\n",
       "      <th>Income</th>\n",
       "      <th>NbrInHouseHold</th>\n",
       "      <th>NbrInHouseholdUnder18</th>\n",
       "      <th>YrsInArea</th>\n",
       "      <th>Gender_M</th>\n",
       "      <th>OwnRent_Parent</th>\n",
       "      <th>OwnRent_Rent</th>\n",
       "      <th>Language_Other</th>\n",
       "      <th>Language_Spanish</th>\n",
       "      <th>DualInc_Y</th>\n",
       "      <th>Rider_Yes</th>\n",
       "    </tr>\n",
       "  </thead>\n",
       "  <tbody>\n",
       "    <tr>\n",
       "      <th>0</th>\n",
       "      <td>7</td>\n",
       "      <td>14</td>\n",
       "      <td>3</td>\n",
       "      <td>3</td>\n",
       "      <td>1</td>\n",
       "      <td>0</td>\n",
       "      <td>5</td>\n",
       "      <td>False</td>\n",
       "      <td>False</td>\n",
       "      <td>True</td>\n",
       "      <td>False</td>\n",
       "      <td>False</td>\n",
       "      <td>False</td>\n",
       "      <td>True</td>\n",
       "    </tr>\n",
       "    <tr>\n",
       "      <th>1</th>\n",
       "      <td>7</td>\n",
       "      <td>10</td>\n",
       "      <td>5</td>\n",
       "      <td>8</td>\n",
       "      <td>2</td>\n",
       "      <td>0</td>\n",
       "      <td>5</td>\n",
       "      <td>True</td>\n",
       "      <td>False</td>\n",
       "      <td>False</td>\n",
       "      <td>False</td>\n",
       "      <td>False</td>\n",
       "      <td>False</td>\n",
       "      <td>False</td>\n",
       "    </tr>\n",
       "    <tr>\n",
       "      <th>2</th>\n",
       "      <td>3</td>\n",
       "      <td>9</td>\n",
       "      <td>3</td>\n",
       "      <td>1</td>\n",
       "      <td>1</td>\n",
       "      <td>0</td>\n",
       "      <td>5</td>\n",
       "      <td>True</td>\n",
       "      <td>False</td>\n",
       "      <td>True</td>\n",
       "      <td>False</td>\n",
       "      <td>False</td>\n",
       "      <td>False</td>\n",
       "      <td>True</td>\n",
       "    </tr>\n",
       "    <tr>\n",
       "      <th>3</th>\n",
       "      <td>1</td>\n",
       "      <td>13</td>\n",
       "      <td>2</td>\n",
       "      <td>1</td>\n",
       "      <td>5</td>\n",
       "      <td>3</td>\n",
       "      <td>5</td>\n",
       "      <td>True</td>\n",
       "      <td>True</td>\n",
       "      <td>False</td>\n",
       "      <td>False</td>\n",
       "      <td>False</td>\n",
       "      <td>False</td>\n",
       "      <td>True</td>\n",
       "    </tr>\n",
       "    <tr>\n",
       "      <th>4</th>\n",
       "      <td>3</td>\n",
       "      <td>14</td>\n",
       "      <td>5</td>\n",
       "      <td>2</td>\n",
       "      <td>3</td>\n",
       "      <td>1</td>\n",
       "      <td>5</td>\n",
       "      <td>False</td>\n",
       "      <td>True</td>\n",
       "      <td>False</td>\n",
       "      <td>False</td>\n",
       "      <td>False</td>\n",
       "      <td>False</td>\n",
       "      <td>True</td>\n",
       "    </tr>\n",
       "  </tbody>\n",
       "</table>\n",
       "</div>"
      ],
      "text/plain": [
       "   Age  DistToWork  Education  Income  NbrInHouseHold  NbrInHouseholdUnder18  \\\n",
       "0    7          14          3       3               1                      0   \n",
       "1    7          10          5       8               2                      0   \n",
       "2    3           9          3       1               1                      0   \n",
       "3    1          13          2       1               5                      3   \n",
       "4    3          14          5       2               3                      1   \n",
       "\n",
       "   YrsInArea  Gender_M  OwnRent_Parent  OwnRent_Rent  Language_Other  \\\n",
       "0          5     False           False          True           False   \n",
       "1          5      True           False         False           False   \n",
       "2          5      True           False          True           False   \n",
       "3          5      True            True         False           False   \n",
       "4          5     False            True         False           False   \n",
       "\n",
       "   Language_Spanish  DualInc_Y  Rider_Yes  \n",
       "0             False      False       True  \n",
       "1             False      False      False  \n",
       "2             False      False       True  \n",
       "3             False      False       True  \n",
       "4             False      False       True  "
      ]
     },
     "execution_count": 13,
     "metadata": {},
     "output_type": "execute_result"
    }
   ],
   "source": [
    "dat_rider.head()"
   ]
  },
  {
   "cell_type": "markdown",
   "metadata": {},
   "source": [
    "### Create new dataset without target variable"
   ]
  },
  {
   "cell_type": "code",
   "execution_count": 15,
   "metadata": {},
   "outputs": [],
   "source": [
    "dat_rider_feats = dat_rider.drop(['Rider_Yes'], axis=1)"
   ]
  },
  {
   "cell_type": "code",
   "execution_count": 17,
   "metadata": {},
   "outputs": [
    {
     "data": {
      "text/html": [
       "<div>\n",
       "<style scoped>\n",
       "    .dataframe tbody tr th:only-of-type {\n",
       "        vertical-align: middle;\n",
       "    }\n",
       "\n",
       "    .dataframe tbody tr th {\n",
       "        vertical-align: top;\n",
       "    }\n",
       "\n",
       "    .dataframe thead th {\n",
       "        text-align: right;\n",
       "    }\n",
       "</style>\n",
       "<table border=\"1\" class=\"dataframe\">\n",
       "  <thead>\n",
       "    <tr style=\"text-align: right;\">\n",
       "      <th></th>\n",
       "      <th>Age</th>\n",
       "      <th>DistToWork</th>\n",
       "      <th>Education</th>\n",
       "      <th>Income</th>\n",
       "      <th>NbrInHouseHold</th>\n",
       "      <th>NbrInHouseholdUnder18</th>\n",
       "      <th>YrsInArea</th>\n",
       "      <th>Gender_M</th>\n",
       "      <th>OwnRent_Parent</th>\n",
       "      <th>OwnRent_Rent</th>\n",
       "      <th>Language_Other</th>\n",
       "      <th>Language_Spanish</th>\n",
       "      <th>DualInc_Y</th>\n",
       "    </tr>\n",
       "  </thead>\n",
       "  <tbody>\n",
       "    <tr>\n",
       "      <th>0</th>\n",
       "      <td>7</td>\n",
       "      <td>14</td>\n",
       "      <td>3</td>\n",
       "      <td>3</td>\n",
       "      <td>1</td>\n",
       "      <td>0</td>\n",
       "      <td>5</td>\n",
       "      <td>False</td>\n",
       "      <td>False</td>\n",
       "      <td>True</td>\n",
       "      <td>False</td>\n",
       "      <td>False</td>\n",
       "      <td>False</td>\n",
       "    </tr>\n",
       "    <tr>\n",
       "      <th>1</th>\n",
       "      <td>7</td>\n",
       "      <td>10</td>\n",
       "      <td>5</td>\n",
       "      <td>8</td>\n",
       "      <td>2</td>\n",
       "      <td>0</td>\n",
       "      <td>5</td>\n",
       "      <td>True</td>\n",
       "      <td>False</td>\n",
       "      <td>False</td>\n",
       "      <td>False</td>\n",
       "      <td>False</td>\n",
       "      <td>False</td>\n",
       "    </tr>\n",
       "    <tr>\n",
       "      <th>2</th>\n",
       "      <td>3</td>\n",
       "      <td>9</td>\n",
       "      <td>3</td>\n",
       "      <td>1</td>\n",
       "      <td>1</td>\n",
       "      <td>0</td>\n",
       "      <td>5</td>\n",
       "      <td>True</td>\n",
       "      <td>False</td>\n",
       "      <td>True</td>\n",
       "      <td>False</td>\n",
       "      <td>False</td>\n",
       "      <td>False</td>\n",
       "    </tr>\n",
       "    <tr>\n",
       "      <th>3</th>\n",
       "      <td>1</td>\n",
       "      <td>13</td>\n",
       "      <td>2</td>\n",
       "      <td>1</td>\n",
       "      <td>5</td>\n",
       "      <td>3</td>\n",
       "      <td>5</td>\n",
       "      <td>True</td>\n",
       "      <td>True</td>\n",
       "      <td>False</td>\n",
       "      <td>False</td>\n",
       "      <td>False</td>\n",
       "      <td>False</td>\n",
       "    </tr>\n",
       "    <tr>\n",
       "      <th>4</th>\n",
       "      <td>3</td>\n",
       "      <td>14</td>\n",
       "      <td>5</td>\n",
       "      <td>2</td>\n",
       "      <td>3</td>\n",
       "      <td>1</td>\n",
       "      <td>5</td>\n",
       "      <td>False</td>\n",
       "      <td>True</td>\n",
       "      <td>False</td>\n",
       "      <td>False</td>\n",
       "      <td>False</td>\n",
       "      <td>False</td>\n",
       "    </tr>\n",
       "  </tbody>\n",
       "</table>\n",
       "</div>"
      ],
      "text/plain": [
       "   Age  DistToWork  Education  Income  NbrInHouseHold  NbrInHouseholdUnder18  \\\n",
       "0    7          14          3       3               1                      0   \n",
       "1    7          10          5       8               2                      0   \n",
       "2    3           9          3       1               1                      0   \n",
       "3    1          13          2       1               5                      3   \n",
       "4    3          14          5       2               3                      1   \n",
       "\n",
       "   YrsInArea  Gender_M  OwnRent_Parent  OwnRent_Rent  Language_Other  \\\n",
       "0          5     False           False          True           False   \n",
       "1          5      True           False         False           False   \n",
       "2          5      True           False          True           False   \n",
       "3          5      True            True         False           False   \n",
       "4          5     False            True         False           False   \n",
       "\n",
       "   Language_Spanish  DualInc_Y  \n",
       "0             False      False  \n",
       "1             False      False  \n",
       "2             False      False  \n",
       "3             False      False  \n",
       "4             False      False  "
      ]
     },
     "execution_count": 17,
     "metadata": {},
     "output_type": "execute_result"
    }
   ],
   "source": [
    "dat_rider_feats.head()"
   ]
  },
  {
   "cell_type": "markdown",
   "metadata": {},
   "source": [
    "### Fit 2 cluster model"
   ]
  },
  {
   "cell_type": "code",
   "execution_count": 41,
   "metadata": {},
   "outputs": [],
   "source": [
    "# Using scikit-learn to perform K-Means clustering\n",
    "from sklearn.cluster import KMeans\n",
    "    \n",
    "# Specify the number of clusters (2) and fit the data dat_rider_feats\n",
    "kmeans = KMeans(n_clusters=4, random_state=42).fit(dat_rider_feats)"
   ]
  },
  {
   "cell_type": "code",
   "execution_count": 43,
   "metadata": {
    "scrolled": true
   },
   "outputs": [
    {
     "name": "stdout",
     "output_type": "stream",
     "text": [
      "Index(['Age', 'DistToWork', 'Education', 'Income', 'NbrInHouseHold',\n",
      "       'NbrInHouseholdUnder18', 'YrsInArea', 'Gender_M', 'OwnRent_Parent',\n",
      "       'OwnRent_Rent', 'Language_Other', 'Language_Spanish', 'DualInc_Y'],\n",
      "      dtype='object')\n",
      "[[ 2.28402367  9.35404339  2.99802761  1.85700197  3.52564103  1.14003945\n",
      "   4.15088757  0.44871795  0.55522682  0.36390533  0.0443787   0.10157791\n",
      "   0.0591716 ]\n",
      " [ 4.113879    9.45966785  4.35468565  7.08659549  2.6316726   0.52253855\n",
      "   4.37663108  0.47627521  0.09905101  0.25919336  0.02313167  0.02491103\n",
      "   0.35587189]\n",
      " [ 4.10182927 13.57317073  4.34634146  7.26890244  2.81402439  0.63414634\n",
      "   4.41585366  0.43780488  0.1097561   0.23719512  0.02134146  0.04146341\n",
      "   0.36707317]\n",
      " [ 2.73807459 13.33998265  3.26192541  2.25065048  2.88985256  0.70078057\n",
      "   4.11708586  0.4848222   0.42758023  0.43712056  0.03902862  0.07892454\n",
      "   0.06764961]]\n"
     ]
    }
   ],
   "source": [
    "print(dat_rider_feats.columns)\n",
    "centroids = (kmeans.cluster_centers_)\n",
    "print(centroids)"
   ]
  },
  {
   "cell_type": "code",
   "execution_count": 45,
   "metadata": {},
   "outputs": [
    {
     "name": "stdout",
     "output_type": "stream",
     "text": [
      "[3 1 0 3 3 3 0 2 1 1 3 3 3 0 3 0 3 1 3 1 2 1 1 2 0 3 1 2 1 3]\n"
     ]
    }
   ],
   "source": [
    "labels = (kmeans.labels_)\n",
    "print(labels[:30])"
   ]
  },
  {
   "cell_type": "code",
   "execution_count": 47,
   "metadata": {},
   "outputs": [
    {
     "name": "stdout",
     "output_type": "stream",
     "text": [
      "1015\n",
      "1686\n",
      "1640\n"
     ]
    }
   ],
   "source": [
    "labelList = labels.tolist()\n",
    "Num_CL_0 = labelList.count(0)\n",
    "Num_CL_1 = labelList.count(1)\n",
    "Num_CL_2 = labelList.count(2)\n",
    "\n",
    "print (Num_CL_0)\n",
    "print (Num_CL_1)\n",
    "print (Num_CL_2)"
   ]
  },
  {
   "cell_type": "code",
   "execution_count": 49,
   "metadata": {},
   "outputs": [
    {
     "name": "stdout",
     "output_type": "stream",
     "text": [
      "0.18328390081639329\n"
     ]
    }
   ],
   "source": [
    "# Calculate silhouette_score\n",
    "from sklearn.metrics import silhouette_score\n",
    "\n",
    "print(silhouette_score(dat_rider_feats, kmeans.labels_))"
   ]
  },
  {
   "cell_type": "code",
   "execution_count": null,
   "metadata": {},
   "outputs": [],
   "source": []
  }
 ],
 "metadata": {
  "kernelspec": {
   "display_name": "Python 3 (ipykernel)",
   "language": "python",
   "name": "python3"
  },
  "language_info": {
   "codemirror_mode": {
    "name": "ipython",
    "version": 3
   },
   "file_extension": ".py",
   "mimetype": "text/x-python",
   "name": "python",
   "nbconvert_exporter": "python",
   "pygments_lexer": "ipython3",
   "version": "3.12.4"
  }
 },
 "nbformat": 4,
 "nbformat_minor": 4
}
